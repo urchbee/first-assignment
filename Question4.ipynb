{
  "nbformat": 4,
  "nbformat_minor": 0,
  "metadata": {
    "colab": {
      "name": "Question4.ipynb",
      "provenance": [],
      "authorship_tag": "ABX9TyMkI00wRZIbF0kfrhW3upts",
      "include_colab_link": true
    },
    "kernelspec": {
      "name": "python3",
      "display_name": "Python 3"
    },
    "language_info": {
      "name": "python"
    }
  },
  "cells": [
    {
      "cell_type": "markdown",
      "metadata": {
        "id": "view-in-github",
        "colab_type": "text"
      },
      "source": [
        "<a href=\"https://colab.research.google.com/github/urchbee/first-assignment/blob/main/Question4.ipynb\" target=\"_parent\"><img src=\"https://colab.research.google.com/assets/colab-badge.svg\" alt=\"Open In Colab\"/></a>"
      ]
    },
    {
      "cell_type": "code",
      "metadata": {
        "id": "PqjdLsWDinPl"
      },
      "source": [
        "#This is the answer to question 4 of the class assignment"
      ],
      "execution_count": null,
      "outputs": []
    },
    {
      "cell_type": "code",
      "metadata": {
        "colab": {
          "base_uri": "https://localhost:8080/"
        },
        "id": "Ew9uuyOOkrBl",
        "outputId": "01127055-b4bb-45ef-d47c-94a38a20e5ec"
      },
      "source": [
        "3*9*27*18\n"
      ],
      "execution_count": 1,
      "outputs": [
        {
          "output_type": "execute_result",
          "data": {
            "text/plain": [
              "13122"
            ]
          },
          "metadata": {},
          "execution_count": 1
        }
      ]
    },
    {
      "cell_type": "code",
      "metadata": {
        "id": "ilZQml2r8SUl",
        "outputId": "7bd678f1-9f80-41a5-9d2e-386d4c80c3af",
        "colab": {
          "base_uri": "https://localhost:8080/"
        }
      },
      "source": [
        "2700/9"
      ],
      "execution_count": 3,
      "outputs": [
        {
          "output_type": "execute_result",
          "data": {
            "text/plain": [
              "300.0"
            ]
          },
          "metadata": {},
          "execution_count": 3
        }
      ]
    },
    {
      "cell_type": "code",
      "metadata": {
        "id": "TWuhbxs88YzY",
        "outputId": "19e88abb-5560-4414-a9d8-e8a128f340ad",
        "colab": {
          "base_uri": "https://localhost:8080/"
        }
      },
      "source": [
        "32+22+16-10"
      ],
      "execution_count": 4,
      "outputs": [
        {
          "output_type": "execute_result",
          "data": {
            "text/plain": [
              "60"
            ]
          },
          "metadata": {},
          "execution_count": 4
        }
      ]
    }
  ]
}